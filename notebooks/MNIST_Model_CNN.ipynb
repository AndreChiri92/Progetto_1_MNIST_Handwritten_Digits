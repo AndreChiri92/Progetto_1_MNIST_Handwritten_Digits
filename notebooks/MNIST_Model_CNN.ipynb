{
 "cells": [
  {
   "cell_type": "code",
   "execution_count": null,
   "metadata": {},
   "outputs": [
    {
     "name": "stderr",
     "output_type": "stream",
     "text": [
      "WARNING:absl:Compiled the loaded model, but the compiled metrics have yet to be built. `model.compile_metrics` will be empty until you train or evaluate the model.\n"
     ]
    },
    {
     "name": "stdout",
     "output_type": "stream",
     "text": [
      "\u001b[1m1/1\u001b[0m \u001b[32m━━━━━━━━━━━━━━━━━━━━\u001b[0m\u001b[37m\u001b[0m \u001b[1m0s\u001b[0m 120ms/step\n"
     ]
    },
    {
     "ename": "NameError",
     "evalue": "name 'np' is not defined",
     "output_type": "error",
     "traceback": [
      "\u001b[1;31m---------------------------------------------------------------------------\u001b[0m",
      "\u001b[1;31mNameError\u001b[0m                                 Traceback (most recent call last)",
      "Cell \u001b[1;32mIn[2], line 23\u001b[0m\n\u001b[0;32m     20\u001b[0m prediction \u001b[38;5;241m=\u001b[39m model\u001b[38;5;241m.\u001b[39mpredict(image)\n\u001b[0;32m     22\u001b[0m \u001b[38;5;66;03m# Trova l'indice con la probabilità più alta\u001b[39;00m\n\u001b[1;32m---> 23\u001b[0m predicted_label \u001b[38;5;241m=\u001b[39m \u001b[43mnp\u001b[49m\u001b[38;5;241m.\u001b[39margmax(prediction)\n\u001b[0;32m     25\u001b[0m \u001b[38;5;66;03m# Visualizza l'immagine\u001b[39;00m\n\u001b[0;32m     26\u001b[0m plt\u001b[38;5;241m.\u001b[39mimshow(test_images[index]\u001b[38;5;241m.\u001b[39mreshape(\u001b[38;5;241m28\u001b[39m, \u001b[38;5;241m28\u001b[39m), cmap\u001b[38;5;241m=\u001b[39mplt\u001b[38;5;241m.\u001b[39mcm\u001b[38;5;241m.\u001b[39mbinary)\n",
      "\u001b[1;31mNameError\u001b[0m: name 'np' is not defined"
     ]
    }
   ],
   "source": [
    "# Importa i pacchetti\n",
    "import sys\n",
    "import tensorflow as tf\n",
    "import matplotlib.pyplot as plt\n",
    "import os\n",
    "import numpy as np\n",
    "sys.path.append(os.path.abspath('../src'))  # Aggiungi la cartella src al percorso di ricerca\n",
    "from data_preprocessing_CNN import load_and_preprocess_data  # Importa la funzione di preprocessing\n",
    "\n",
    "# Carica i dati e preprocessali\n",
    "train_images, train_labels, test_images, test_labels = load_and_preprocess_data()\n",
    "\n",
    "# Indice dell'immagine da testare\n",
    "index = 238\n",
    "\n",
    "# Carica il modello pre-addestrato\n",
    "model = tf.keras.models.load_model('../mnist_model_cnn.h5')\n",
    "\n",
    "# Effettua la predizione solo sull'immagine selezionata\n",
    "image = test_images[index].reshape(1, 28, 28, 1)  # Aggiunge batch dimension per il modello\n",
    "prediction = model.predict(image)\n",
    "\n",
    "# Trova l'indice con la probabilità più alta\n",
    "predicted_label = np.argmax(prediction)\n",
    "\n",
    "# Visualizza l'immagine\n",
    "plt.imshow(test_images[index].reshape(28, 28), cmap=plt.cm.binary)\n",
    "plt.title(f\"Predizione: {predicted_label}\")\n",
    "plt.axis(\"off\")\n",
    "plt.show()\n",
    "\n",
    "print(f\"Predizione: {predicted_label} (Probabilità: {np.max(prediction) * 100:.2f}%)\")\n"
   ]
  }
 ],
 "metadata": {
  "kernelspec": {
   "display_name": "venv",
   "language": "python",
   "name": "python3"
  },
  "language_info": {
   "codemirror_mode": {
    "name": "ipython",
    "version": 3
   },
   "file_extension": ".py",
   "mimetype": "text/x-python",
   "name": "python",
   "nbconvert_exporter": "python",
   "pygments_lexer": "ipython3",
   "version": "3.12.2"
  }
 },
 "nbformat": 4,
 "nbformat_minor": 2
}
