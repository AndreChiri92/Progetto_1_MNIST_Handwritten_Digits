{
 "cells": [
  {
   "cell_type": "code",
   "execution_count": 14,
   "metadata": {},
   "outputs": [
    {
     "name": "stderr",
     "output_type": "stream",
     "text": [
      "WARNING:absl:Compiled the loaded model, but the compiled metrics have yet to be built. `model.compile_metrics` will be empty until you train or evaluate the model.\n"
     ]
    },
    {
     "name": "stdout",
     "output_type": "stream",
     "text": [
      "\u001b[1m1/1\u001b[0m \u001b[32m━━━━━━━━━━━━━━━━━━━━\u001b[0m\u001b[37m\u001b[0m \u001b[1m0s\u001b[0m 137ms/step\n"
     ]
    },
    {
     "data": {
      "image/png": "[encoded data removed]",
      "text/plain": [
       "<Figure size 640x480 with 1 Axes>"
      ]
     },
     "metadata": {},
     "output_type": "display_data"
    },
    {
     "name": "stdout",
     "output_type": "stream",
     "text": [
      "Predizione: 1 (Probabilità: 100.00%)\n"
     ]
    }
   ],
   "source": [
    "# Importa i pacchetti\n",
    "import sys\n",
    "import tensorflow as tf\n",
    "import matplotlib.pyplot as plt\n",
    "import os\n",
    "import numpy as np\n",
    "sys.path.append(os.path.abspath('../src'))  # Aggiungi la cartella src al percorso di ricerca\n",
    "from data_preprocessing import load_and_preprocess_data  # Importa la funzione di preprocessing\n",
    "\n",
    "# Carica i dati e preprocessali\n",
    "(train_images, train_labels), (test_images, test_labels) = load_and_preprocess_data()\n",
    "\n",
    "# Indice dell'immagine da testare\n",
    "index = 4564\n",
    "\n",
    "# Carica il modello pre-addestrato\n",
    "model = tf.keras.models.load_model('../data/mnist_model_cnn.h5')\n",
    "\n",
    "# Effettua la predizione solo sull'immagine selezionata\n",
    "image = test_images[index].reshape(1, 28, 28, 1)  # Aggiunge batch dimension per il modello\n",
    "prediction = model.predict(image)\n",
    "\n",
    "# Trova l'indice con la probabilità più alta\n",
    "predicted_label = np.argmax(prediction)\n",
    "\n",
    "# Visualizza l'immagine\n",
    "plt.imshow(test_images[index].reshape(28, 28), cmap=plt.cm.binary)\n",
    "plt.title(f\"Predizione: {predicted_label}\")\n",
    "plt.axis(\"off\")\n",
    "plt.show()\n",
    "\n",
    "print(f\"Predizione: {predicted_label} (Probabilità: {np.max(prediction) * 100:.2f}%)\")\n"
   ]
  }
 ],
 "metadata": {
  "kernelspec": {
   "display_name": "venv",
   "language": "python",
   "name": "python3"
  },
  "language_info": {
   "codemirror_mode": {
    "name": "ipython",
    "version": 3
   },
   "file_extension": ".py",
   "mimetype": "text/x-python",
   "name": "python",
   "nbconvert_exporter": "python",
   "pygments_lexer": "ipython3",
   "version": "3.12.2"
  }
 },
 "nbformat": 4,
 "nbformat_minor": 2
}
