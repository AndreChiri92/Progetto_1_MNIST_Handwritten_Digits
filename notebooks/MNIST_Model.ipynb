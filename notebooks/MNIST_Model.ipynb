{
 "cells": [
  {
   "cell_type": "code",
   "execution_count": null,
   "metadata": {
    "vscode": {
     "languageId": "plaintext"
    }
   },
   "outputs": [],
   "source": [
    "# Importa i pacchetti\n",
    "import tensorflow as tf\n",
    "import matplotlib.pyplot as plt\n",
    "\n",
    "# Carica il modello pre-addestrato (se necessario)\n",
    "model = tf.keras.models.load_model('mnist_model.h5')\n",
    "\n",
    "# Visualizza le immagini e le previsioni\n",
    "predictions = model.predict(test_images)\n",
    "plt.imshow(test_images[0], cmap=plt.cm.binary)\n",
    "plt.show()\n",
    "print(f\"Predizione: {predictions[0]}\")\n"
   ]
  }
 ],
 "metadata": {
  "language_info": {
   "name": "python"
  }
 },
 "nbformat": 4,
 "nbformat_minor": 2
}
