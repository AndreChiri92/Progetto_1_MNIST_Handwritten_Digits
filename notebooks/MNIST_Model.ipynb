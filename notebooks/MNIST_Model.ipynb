{
 "cells": [
  {
   "cell_type": "code",
   "execution_count": 20,
   "metadata": {},
   "outputs": [
    {
     "name": "stderr",
     "output_type": "stream",
     "text": [
      "WARNING:absl:Compiled the loaded model, but the compiled metrics have yet to be built. `model.compile_metrics` will be empty until you train or evaluate the model.\n"
     ]
    },
    {
     "name": "stdout",
     "output_type": "stream",
     "text": [
      "\u001b[1m313/313\u001b[0m \u001b[32m━━━━━━━━━━━━━━━━━━━━\u001b[0m\u001b[37m\u001b[0m \u001b[1m1s\u001b[0m 1ms/step\n"
     ]
    },
    {
     "data": {
      "image/png": "[encoded data removed]",
      "text/plain": [
       "<Figure size 640x480 with 1 Axes>"
      ]
     },
     "metadata": {},
     "output_type": "display_data"
    },
    {
     "name": "stdout",
     "output_type": "stream",
     "text": [
      "Predizione: [1.8066032e-08 1.3633305e-03 9.9857712e-01 4.5582274e-05 8.7041783e-13\n",
      " 6.1669771e-06 2.0212726e-10 3.8025693e-08 7.6831884e-06 6.0040826e-11]\n"
     ]
    }
   ],
   "source": [
    "# Importa i pacchetti\n",
    "import sys\n",
    "import tensorflow as tf\n",
    "import matplotlib.pyplot as plt\n",
    "import os\n",
    "sys.path.append(os.path.abspath('../src'))  # Aggiungi la cartella src al percorso di ricerca\n",
    "from data_preprocessing import load_and_preprocess_data  # Importa la funzione di preprocessing\n",
    "\n",
    "# Carica i dati e preprocessali\n",
    "train_images, train_labels, test_images, test_labels = load_and_preprocess_data()\n",
    "# index indica l'immagine da testare\n",
    "index = 35\n",
    "\n",
    "# Carica il modello pre-addestrato\n",
    "model = tf.keras.models.load_model('../mnist_model.h5')\n",
    "\n",
    "# Visualizza le immagini e le previsioni\n",
    "predictions = model.predict(test_images)\n",
    "plt.imshow(test_images[index].reshape(28, 28), cmap=plt.cm.binary)  # Riformatta per visualizzare correttamente\n",
    "plt.show()\n",
    "print(f\"Predizione: {predictions[index]}\")\n",
    "\n",
    "# Trova l'indice con la probabilità più alta\n",
    "predicted_label = np.argmax(predictions[index])\n"
   ]
  }
 ],
 "metadata": {
  "kernelspec": {
   "display_name": "venv",
   "language": "python",
   "name": "python3"
  },
  "language_info": {
   "codemirror_mode": {
    "name": "ipython",
    "version": 3
   },
   "file_extension": ".py",
   "mimetype": "text/x-python",
   "name": "python",
   "nbconvert_exporter": "python",
   "pygments_lexer": "ipython3",
   "version": "3.12.2"
  }
 },
 "nbformat": 4,
 "nbformat_minor": 2
}
