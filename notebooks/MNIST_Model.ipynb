{
 "cells": [
  {
   "cell_type": "code",
   "execution_count": null,
   "metadata": {},
   "outputs": [
    {
     "name": "stderr",
     "output_type": "stream",
     "text": [
      "WARNING:absl:Compiled the loaded model, but the compiled metrics have yet to be built. `model.compile_metrics` will be empty until you train or evaluate the model.\n"
     ]
    },
    {
     "name": "stdout",
     "output_type": "stream",
     "text": [
      "\u001b[1m313/313\u001b[0m \u001b[32m━━━━━━━━━━━━━━━━━━━━\u001b[0m\u001b[37m\u001b[0m \u001b[1m1s\u001b[0m 2ms/step\n"
     ]
    },
    {
     "data": {
      "image/png": "[encoded data removed]",
      "text/plain": [
       "<Figure size 640x480 with 1 Axes>"
      ]
     },
     "metadata": {},
     "output_type": "display_data"
    },
    {
     "name": "stdout",
     "output_type": "stream",
     "text": [
      "Predizione: [5.5929490e-08 9.9939060e-01 1.4833533e-07 2.0585455e-06 2.0408954e-05\n",
      " 7.0374696e-08 1.7084662e-07 5.8290316e-04 3.2783471e-06 2.4324427e-07]\n"
     ]
    }
   ],
   "source": [
    "# Importa i pacchetti\n",
    "import sys\n",
    "import tensorflow as tf\n",
    "import matplotlib.pyplot as plt\n",
    "import os\n",
    "sys.path.append(os.path.abspath('../src'))  # Aggiungi la cartella src al percorso di ricerca\n",
    "from data_preprocessing import load_and_preprocess_data  # Importa la funzione di preprocessing\n",
    "\n",
    "# Carica i dati e preprocessali\n",
    "train_images, train_labels, test_images, test_labels = load_and_preprocess_data()\n",
    "# index indica l'immagine da testare\n",
    "index = 5\n",
    "\n",
    "# Carica il modello pre-addestrato\n",
    "model = tf.keras.models.load_model('../mnist_model.h5')\n",
    "\n",
    "# Visualizza le immagini e le previsioni\n",
    "predictions = model.predict(test_images)\n",
    "plt.imshow(test_images[index].reshape(28, 28), cmap=plt.cm.binary)  # Riformatta per visualizzare correttamente\n",
    "plt.show()\n",
    "print(f\"Predizione: {predictions[index]}\")\n",
    "\n",
    "# Trova l'indice con la probabilità più alta\n",
    "predicted_label = np.argmax(predictions[index])\n"
   ]
  }
 ],
 "metadata": {
  "kernelspec": {
   "display_name": "venv",
   "language": "python",
   "name": "python3"
  },
  "language_info": {
   "codemirror_mode": {
    "name": "ipython",
    "version": 3
   },
   "file_extension": ".py",
   "mimetype": "text/x-python",
   "name": "python",
   "nbconvert_exporter": "python",
   "pygments_lexer": "ipython3",
   "version": "3.12.2"
  }
 },
 "nbformat": 4,
 "nbformat_minor": 2
}
