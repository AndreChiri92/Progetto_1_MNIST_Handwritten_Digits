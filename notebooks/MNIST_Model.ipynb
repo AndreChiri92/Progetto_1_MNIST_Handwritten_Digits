{
 "cells": [
  {
   "cell_type": "code",
   "execution_count": 8,
   "metadata": {},
   "outputs": [
    {
     "name": "stderr",
     "output_type": "stream",
     "text": [
      "WARNING:absl:Compiled the loaded model, but the compiled metrics have yet to be built. `model.compile_metrics` will be empty until you train or evaluate the model.\n"
     ]
    },
    {
     "name": "stdout",
     "output_type": "stream",
     "text": [
      "\u001b[1m313/313\u001b[0m \u001b[32m━━━━━━━━━━━━━━━━━━━━\u001b[0m\u001b[37m\u001b[0m \u001b[1m1s\u001b[0m 2ms/step\n"
     ]
    },
    {
     "data": {
      "image/png": "[encoded data removed]",
      "text/plain": [
       "<Figure size 640x480 with 1 Axes>"
      ]
     },
     "metadata": {},
     "output_type": "display_data"
    },
    {
     "name": "stdout",
     "output_type": "stream",
     "text": [
      "Predizione: [3.5414586e-12 1.1956201e-14 1.9787144e-10 1.5002000e-12 9.9999928e-01\n",
      " 1.7244891e-11 2.5033709e-11 5.7367644e-09 1.3646725e-11 7.4169685e-07]\n"
     ]
    }
   ],
   "source": [
    "# Importa i pacchetti\n",
    "import sys\n",
    "import numpy as np\n",
    "import tensorflow as tf\n",
    "import matplotlib.pyplot as plt\n",
    "import os\n",
    "sys.path.append(os.path.abspath('../src'))  # Aggiungi la cartella data al percorso di ricerca\n",
    "from data_preprocessing import load_and_preprocess_data  # Importa la funzione di preprocessing\n",
    "\n",
    "# Carica i dati e preprocessali\n",
    "(train_images, train_labels), (test_images, test_labels) = load_and_preprocess_data()\n",
    "# index indica l'immagine da testare\n",
    "index = 238\n",
    "\n",
    "# Carica il modello pre-addestrato\n",
    "model = tf.keras.models.load_model('../data/mnist_model.h5')\n",
    "\n",
    "# Visualizza le immagini e le previsioni\n",
    "predictions = model.predict(test_images)\n",
    "plt.imshow(test_images[index].reshape(28, 28), cmap=plt.cm.binary)  # Riformatta per visualizzare correttamente\n",
    "plt.show()\n",
    "print(f\"Predizione: {predictions[index]}\")\n",
    "\n",
    "# Trova l'indice con la probabilità più alta\n",
    "predicted_label = np.argmax(predictions[index])\n"
   ]
  }
 ],
 "metadata": {
  "kernelspec": {
   "display_name": "venv",
   "language": "python",
   "name": "python3"
  },
  "language_info": {
   "codemirror_mode": {
    "name": "ipython",
    "version": 3
   },
   "file_extension": ".py",
   "mimetype": "text/x-python",
   "name": "python",
   "nbconvert_exporter": "python",
   "pygments_lexer": "ipython3",
   "version": "3.12.2"
  }
 },
 "nbformat": 4,
 "nbformat_minor": 2
}
